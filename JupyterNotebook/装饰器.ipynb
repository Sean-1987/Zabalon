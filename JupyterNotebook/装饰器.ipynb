{
 "cells": [
  {
   "cell_type": "markdown",
   "metadata": {},
   "source": [
    "# 装饰器"
   ]
  },
  {
   "cell_type": "code",
   "execution_count": 23,
   "metadata": {},
   "outputs": [
    {
     "name": "stdout",
     "output_type": "stream",
     "text": [
      "hello\n",
      "world\n"
     ]
    }
   ],
   "source": [
    "def out_fun(msg):\n",
    "    message = msg\n",
    "    def in_fun():\n",
    "        print(message)\n",
    "    return in_fun\n",
    "\n",
    "x = out_fun(\"hello\")\n",
    "y = out_fun('world')\n",
    "x()\n",
    "y()\n",
    "\n",
    "\n",
    "# 闭包 return 函数没有+(), 这里不会执行,只是待命状态"
   ]
  },
  {
   "cell_type": "code",
   "execution_count": 37,
   "metadata": {},
   "outputs": [
    {
     "name": "stdout",
     "output_type": "stream",
     "text": [
      "msg\n"
     ]
    }
   ],
   "source": [
    "def out2_fun():\n",
    "    message = \"msg\"\n",
    "    def in2_fun():\n",
    "        print(message)\n",
    "    return in2_fun()\n",
    "\n",
    "out2_fun()\n",
    "\n",
    "# 函数也可以直接执行"
   ]
  },
  {
   "cell_type": "code",
   "execution_count": 7,
   "metadata": {},
   "outputs": [
    {
     "name": "stdout",
     "output_type": "stream",
     "text": [
      "i am 32\n",
      "i am 32\n"
     ]
    }
   ],
   "source": [
    "# 函数也可以当做参数传入函数\n",
    "# 创建装饰器逻辑\n",
    "\n",
    "def dec_fun(ori_fun):\n",
    "    def wap_fun():\n",
    "        return ori_fun()  # 这里return需要执行 所以要加()\n",
    "    return wap_fun\n",
    "\n",
    "@dec_fun   # 调用装饰器, 先run dec_fun,然后run age_fun\n",
    "def age_fun():\n",
    "    print('i am 32')\n",
    "    \n",
    "age_fun()\n",
    "\n",
    "#传统调用\n",
    "test_fun = dec_fun(age_fun)\n",
    "test_fun()"
   ]
  },
  {
   "cell_type": "code",
   "execution_count": 42,
   "metadata": {},
   "outputs": [
    {
     "name": "stdout",
     "output_type": "stream",
     "text": [
      "i am 28\n",
      "Sean 34\n",
      "{'school': '万门', 'coding': 'python'}\n"
     ]
    }
   ],
   "source": [
    "# 增加装饰器的宽容度\n",
    "\n",
    "def dec_fun(ori_fun):\n",
    "    def wap_fun(*args, **kwargs):  # 可变参数*args 元祖类型 **kwargs 字典类型  *是关键，名字可随意\n",
    "        return ori_fun()\n",
    "    return wap_fun\n",
    "\n",
    "@dec_fun\n",
    "def show_age():\n",
    "    print('i am 28')\n",
    "show_age()\n",
    "\n",
    "def show_info(name, age):\n",
    "    print(name, age)\n",
    "show_info('Sean', '34')\n",
    "\n",
    "def show_more(**kwargs):\n",
    "    print(kwargs)\n",
    "show_more(school = '万门', coding = 'python')\n",
    "\n"
   ]
  },
  {
   "cell_type": "code",
   "execution_count": 23,
   "metadata": {},
   "outputs": [
    {
     "name": "stdout",
     "output_type": "stream",
     "text": [
      "i am SZY, my teacher is zhengzheng\n"
     ]
    }
   ],
   "source": [
    "# 增加装饰器的变通性\n",
    "\n",
    "def dec_tech(myteacher):\n",
    "    def  ec_fun(ori_fun):\n",
    "        def wap_fun(stuname):\n",
    "            return ori_fun('i am '+ stuname +\", my teacher is \"+ myteacher)  # 使用+ 而不是\"\"\n",
    "        return wap_fun\n",
    "    return ec_fun\n",
    "\n",
    "@dec_tech('zhengzheng')\n",
    "def stu1(name):\n",
    "    print(name)\n",
    "stu1(\"SZY\")"
   ]
  },
  {
   "cell_type": "markdown",
   "metadata": {},
   "source": [
    "## 闭包"
   ]
  },
  {
   "cell_type": "code",
   "execution_count": 5,
   "metadata": {},
   "outputs": [],
   "source": [
    "def out_fun(x):\n",
    "    print(\"from out_fun\", x)\n",
    "    def in_fun(y):\n",
    "        print('from in_fun')\n",
    "        return x + y\n",
    "    return in_fun   # out反悔in 函数， 但是没有() 所以不是功能， 如果加了() 函数直接被释放，无法外部调用\n"
   ]
  },
  {
   "cell_type": "code",
   "execution_count": 11,
   "metadata": {},
   "outputs": [
    {
     "name": "stdout",
     "output_type": "stream",
     "text": [
      "from out_fun 2\n",
      "from in_fun\n"
     ]
    },
    {
     "data": {
      "text/plain": [
       "6"
      ]
     },
     "execution_count": 11,
     "metadata": {},
     "output_type": "execute_result"
    }
   ],
   "source": [
    "test = out_fun(2) # 这里调用了out\n",
    "test(4) # 这里调用了in"
   ]
  },
  {
   "cell_type": "code",
   "execution_count": 27,
   "metadata": {},
   "outputs": [
    {
     "name": "stdout",
     "output_type": "stream",
     "text": [
      " 一气呵成\n"
     ]
    }
   ],
   "source": [
    "def pri():\n",
    "    message = \" 一气呵成\"\n",
    "    def pri2():\n",
    "        print(message)\n",
    "    return pri2()  # 注意这里加了()直接执行\n",
    "\n",
    "test = pri()"
   ]
  },
  {
   "cell_type": "code",
   "execution_count": 31,
   "metadata": {},
   "outputs": [
    {
     "name": "stdout",
     "output_type": "stream",
     "text": [
      "动作拆解\n"
     ]
    }
   ],
   "source": [
    "def pri():\n",
    "    message = \"动作拆解\"\n",
    "    def pri2():\n",
    "        print(message)\n",
    "    return pri2\n",
    "\n",
    "test = pri()\n",
    "test()"
   ]
  },
  {
   "cell_type": "markdown",
   "metadata": {},
   "source": [
    "## 带参数"
   ]
  },
  {
   "cell_type": "code",
   "execution_count": 41,
   "metadata": {},
   "outputs": [
    {
     "name": "stdout",
     "output_type": "stream",
     "text": [
      "1\n"
     ]
    }
   ],
   "source": [
    "def pri(x):\n",
    "    message = x\n",
    "    def pri2():\n",
    "        print(message)\n",
    "    return pri2\n",
    "\n",
    "test = pri(1)  # 这里只是调用pri 传入的1， 并没有print\n",
    "test()  # 这里调用pri2， print\n"
   ]
  },
  {
   "cell_type": "markdown",
   "metadata": {},
   "source": [
    "## 多重装饰器"
   ]
  },
  {
   "cell_type": "code",
   "execution_count": 51,
   "metadata": {},
   "outputs": [],
   "source": [
    "def cod_name(x):\n",
    "    def wap_fun(y):\n",
    "        return x(y + ' 007')\n",
    "    return wap_fun\n",
    "\n",
    "def fir_name(x):\n",
    "    def wap_fun(y):\n",
    "        return x(y + ' James')\n",
    "    return wap_fun\n",
    "\n",
    "def las_name(x):\n",
    "    def wap_fun(y):\n",
    "        return x( y + ' Bond')\n",
    "    return wap_fun\n",
    "\n"
   ]
  },
  {
   "cell_type": "code",
   "execution_count": 60,
   "metadata": {},
   "outputs": [
    {
     "name": "stdout",
     "output_type": "stream",
     "text": [
      "i am from  China 007 James Bond\n"
     ]
    }
   ],
   "source": [
    "# 内部函数功能由上到下执行\n",
    "@cod_name\n",
    "@fir_name\n",
    "@las_name\n",
    "\n",
    "def tes(x):\n",
    "    print('i am from ', x)\n",
    "tes('China')"
   ]
  },
  {
   "cell_type": "code",
   "execution_count": 61,
   "metadata": {},
   "outputs": [
    {
     "name": "stdout",
     "output_type": "stream",
     "text": [
      "yyyyy zzzzz xxxxx\n"
     ]
    }
   ],
   "source": [
    "def a(x):\n",
    "    def b(y):\n",
    "        return x(y + ' xxxxx')\n",
    "    return b\n",
    "@a\n",
    "def c(w):\n",
    "    print('yyyyy', w)\n",
    "    \n",
    "c('zzzzz')"
   ]
  },
  {
   "cell_type": "markdown",
   "metadata": {},
   "source": [
    "## 案例"
   ]
  },
  {
   "cell_type": "markdown",
   "metadata": {},
   "source": [
    "### 程序计时器"
   ]
  },
  {
   "cell_type": "code",
   "execution_count": 76,
   "metadata": {},
   "outputs": [],
   "source": [
    "import time\n",
    "def timer(fun):\n",
    "    def wrapper():\n",
    "        start = time.time()\n",
    "        fun()\n",
    "        end = time.time()\n",
    "        return end - start\n",
    "    return wrapper"
   ]
  },
  {
   "cell_type": "code",
   "execution_count": 73,
   "metadata": {},
   "outputs": [
    {
     "data": {
      "text/plain": [
       "0.013432741165161133"
      ]
     },
     "execution_count": 73,
     "metadata": {},
     "output_type": "execute_result"
    }
   ],
   "source": [
    "@timer\n",
    "def cus():\n",
    "    data = []\n",
    "    for x in range(100000):\n",
    "        data.append(x)\n",
    "cus()"
   ]
  },
  {
   "cell_type": "code",
   "execution_count": 78,
   "metadata": {},
   "outputs": [
    {
     "data": {
      "text/plain": [
       "5.002150058746338"
      ]
     },
     "execution_count": 78,
     "metadata": {},
     "output_type": "execute_result"
    }
   ],
   "source": [
    "@timer\n",
    "\n",
    "def cus2():\n",
    "    time.sleep(5)\n",
    "cus2()"
   ]
  },
  {
   "cell_type": "markdown",
   "metadata": {},
   "source": [
    "## 案例 登陆"
   ]
  },
  {
   "cell_type": "code",
   "execution_count": 89,
   "metadata": {},
   "outputs": [
    {
     "name": "stdout",
     "output_type": "stream",
     "text": [
      " you have logged into console 1\n"
     ]
    }
   ],
   "source": [
    "def login_fun(fun):\n",
    "    def wrap_fun():\n",
    "        pwd = input('Please type your password')\n",
    "        if pwd == '123':\n",
    "            print('login successful')\n",
    "            fun()\n",
    "        else:\n",
    "            print('login failed')\n",
    "    return wrap_fun\n",
    "    \n",
    "def admin():\n",
    "    print(' you have logged into console 1')\n",
    "    \n",
    "admin()\n",
    "\n",
    "    "
   ]
  },
  {
   "cell_type": "code",
   "execution_count": 90,
   "metadata": {},
   "outputs": [
    {
     "name": "stdout",
     "output_type": "stream",
     "text": [
      "Please type your password123\n",
      "login successful\n",
      "you have logged into console 2\n"
     ]
    }
   ],
   "source": [
    "@login_fun\n",
    "def admin_2():\n",
    "    print('you have logged into console 2')\n",
    "admin_2()"
   ]
  },
  {
   "cell_type": "code",
   "execution_count": null,
   "metadata": {},
   "outputs": [],
   "source": []
  }
 ],
 "metadata": {
  "kernelspec": {
   "display_name": "Python 3",
   "language": "python",
   "name": "python3"
  },
  "language_info": {
   "codemirror_mode": {
    "name": "ipython",
    "version": 3
   },
   "file_extension": ".py",
   "mimetype": "text/x-python",
   "name": "python",
   "nbconvert_exporter": "python",
   "pygments_lexer": "ipython3",
   "version": "3.8.3"
  }
 },
 "nbformat": 4,
 "nbformat_minor": 4
}
