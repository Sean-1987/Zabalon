{
 "cells": [
  {
   "cell_type": "code",
   "execution_count": 3,
   "metadata": {},
   "outputs": [
    {
     "name": "stdout",
     "output_type": "stream",
     "text": [
      "Help on function choujiang in module __main__:\n",
      "\n",
      "choujiang(num_p, dic)\n",
      "    num_p 公司参与抽奖的总人数\n",
      "    dic 奖品目录\n",
      "\n"
     ]
    }
   ],
   "source": [
    "import random\n",
    "\n",
    "my_gen = (x for x in range(0, 100))\n",
    "total_p = 30\n",
    "lottery_list = []  # 全局变量\n",
    "prize_dict = {'iphone': 3, \"ipad\": 4, \"aripods\": 5}\n",
    "\n",
    "def choujiang(num_p, dic):\n",
    "    '''num_p 公司参与抽奖的总人数\n",
    "       dic 奖品目录\n",
    "    '''\n",
    "    \n",
    "    #一级判断, 确保输入没有问题\n",
    "    if type(num_p) != int or type(dic) != dict:\n",
    "        print(\"输入有误\")\n",
    "        \n",
    "    else:\n",
    "        #主控逻辑\n",
    "        sum_dic = 0\n",
    "        for x,y in prize_dict.items():\n",
    "            for i in range(y):\n",
    "                lottery_list.append(x)  # 添加奖品\n",
    "            sum_dic += y  # 计算奖品总数量\n",
    "        \n",
    "    \n",
    "        for b in range(num_p - sum_dic):\n",
    "            lottery_list.append('没中奖')\n",
    "            # 添加 没中奖的数据 总人数 - 奖品数 = 没中奖的人数\n",
    "            \n",
    "help(choujiang)\n",
    "            "
   ]
  },
  {
   "cell_type": "code",
   "execution_count": 2,
   "metadata": {},
   "outputs": [
    {
     "name": "stdout",
     "output_type": "stream",
     "text": [
      "['aripods', '没中奖', '没中奖', 'ipad', '没中奖', 'ipad', '没中奖', 'iphone', '没中奖', '没中奖', '没中奖', '没中奖', '没中奖', 'iphone', '没中奖', '没中奖', 'ipad', '没中奖', 'aripods', 'aripods', '没中奖', 'ipad', '没中奖', 'iphone', '没中奖', '没中奖', '没中奖', 'aripods', 'aripods', '没中奖']\n"
     ]
    }
   ],
   "source": [
    "choujiang(total_p, prize_dict)  # 调用函数，传入参数\n",
    "\n",
    "random.shuffle(lottery_list) # 打乱奖品顺序\n",
    "print(lottery_list)\n",
    "\n",
    "new_iter=iter(lottery_list) # 生成迭代器\n"
   ]
  },
  {
   "cell_type": "code",
   "execution_count": 4,
   "metadata": {},
   "outputs": [
    {
     "name": "stdout",
     "output_type": "stream",
     "text": [
      "--------------------------------------------------\n",
      "开始抽奖请输入‘抽奖’，结束抽奖请输入‘结束'\n",
      "抽奖\n"
     ]
    },
    {
     "ename": "NameError",
     "evalue": "name 'new_iter' is not defined",
     "output_type": "error",
     "traceback": [
      "\u001b[0;31m---------------------------------------------------------------------------\u001b[0m",
      "\u001b[0;31mNameError\u001b[0m                                 Traceback (most recent call last)",
      "Input \u001b[0;32mIn [4]\u001b[0m, in \u001b[0;36m<cell line: 2>\u001b[0;34m()\u001b[0m\n\u001b[1;32m      4\u001b[0m \u001b[38;5;28mprint\u001b[39m(\u001b[38;5;124m\"\u001b[39m\u001b[38;5;124m开始抽奖请输入‘抽奖’，结束抽奖请输入‘结束\u001b[39m\u001b[38;5;124m'\u001b[39m\u001b[38;5;124m\"\u001b[39m)\n\u001b[1;32m      5\u001b[0m \u001b[38;5;28;01mif\u001b[39;00m \u001b[38;5;28minput\u001b[39m() \u001b[38;5;241m==\u001b[39m \u001b[38;5;124m'\u001b[39m\u001b[38;5;124m抽奖\u001b[39m\u001b[38;5;124m'\u001b[39m:\n\u001b[0;32m----> 6\u001b[0m     p \u001b[38;5;241m=\u001b[39m \u001b[38;5;28mnext\u001b[39m(\u001b[43mnew_iter\u001b[49m)\n\u001b[1;32m      7\u001b[0m     total_p \u001b[38;5;241m-\u001b[39m\u001b[38;5;241m=\u001b[39m \u001b[38;5;241m1\u001b[39m\n\u001b[1;32m      8\u001b[0m     \u001b[38;5;28;01mif\u001b[39;00m p \u001b[38;5;241m==\u001b[39m \u001b[38;5;124m'\u001b[39m\u001b[38;5;124m没中奖\u001b[39m\u001b[38;5;124m'\u001b[39m:\n",
      "\u001b[0;31mNameError\u001b[0m: name 'new_iter' is not defined"
     ]
    }
   ],
   "source": [
    "while 1:\n",
    "    if total_p != 0:\n",
    "        print('-'*50)\n",
    "        print(\"开始抽奖请输入‘抽奖’，结束抽奖请输入‘结束'\")\n",
    "        if input() == '抽奖':\n",
    "            p = next(new_iter)\n",
    "            total_p -= 1\n",
    "            if p == '没中奖':\n",
    "                print('很遗憾没有中奖')\n",
    "            else:\n",
    "                num = format(next(my_gen), '04d') #format 函数转换 从 1 2 3 4 到 0001 0002 0003 0004 “04d”是0000+num\n",
    "                print('恭喜您中奖了, 奖品是:' +p+ ', 中奖的ID是：' + str(num))\n",
    "        elif input() == '结束':\n",
    "              break\n",
    "    else:\n",
    "        print('抽奖次数已用完')\n",
    "        break"
   ]
  },
  {
   "cell_type": "code",
   "execution_count": null,
   "metadata": {},
   "outputs": [],
   "source": []
  }
 ],
 "metadata": {
  "kernelspec": {
   "display_name": "Python 3 (ipykernel)",
   "language": "python",
   "name": "python3"
  },
  "language_info": {
   "codemirror_mode": {
    "name": "ipython",
    "version": 3
   },
   "file_extension": ".py",
   "mimetype": "text/x-python",
   "name": "python",
   "nbconvert_exporter": "python",
   "pygments_lexer": "ipython3",
   "version": "3.9.12"
  }
 },
 "nbformat": 4,
 "nbformat_minor": 4
}
